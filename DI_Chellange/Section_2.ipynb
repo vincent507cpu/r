{
 "cells": [
  {
   "cell_type": "markdown",
   "metadata": {},
   "source": [
    "# Section 2: A sequence of n numbers is considered valid if the sequence begins with 1, ends with a given number j, and no two adjacent numbers are the same. Sequences may use any integers between 1 and a given number k, inclusive (also 1<=j<=k). Given parameters n, j, and k, count the number of valid sequences. The number of valid sequences may be very large, so express your answer modulo 10^10+7."
   ]
  },
  {
   "cell_type": "code",
   "execution_count": 1,
   "metadata": {},
   "outputs": [],
   "source": [
    "count_valid_seq <- function(n, j, k){\n",
    "  set.seed(1988)\n",
    "  numbers <- sample(k, 10^9+7, replace = T)\n",
    "  # my computer can only simudate 10^9 + 7 numbers\n",
    "  valid = 0\n",
    "  for (i in 1:(length(numbers) - n)) {\n",
    "    # the sequence begins with 1\n",
    "    if (numbers[i] == 1){\n",
    "      # the sequence with n length ends with j\n",
    "      if (numbers[i + n] == j){\n",
    "        for (m in i:(i + n - 1)) {\n",
    "          if (m < (i + n -1) & numbers[m] != numbers[m + 1]){\n",
    "            # no two adjacent numbers are the same, but do not count until numbers reach the end\n",
    "            next()\n",
    "          }\n",
    "          else if (m == (i + n - 1) & numbers[m - 1] != numbers[i + n - 1]){\n",
    "              # count since numbers reach the end\n",
    "              valid  = valid + 1\n",
    "          }\n",
    "        }\n",
    "      }\n",
    "    }\n",
    "  }\n",
    "  return(valid)\n",
    "}"
   ]
  },
  {
   "cell_type": "markdown",
   "metadata": {},
   "source": [
    "# n=4, k=4, and j=2?"
   ]
  },
  {
   "cell_type": "code",
   "execution_count": 2,
   "metadata": {},
   "outputs": [
    {
     "data": {
      "text/html": [
       "46868363"
      ],
      "text/latex": [
       "46868363"
      ],
      "text/markdown": [
       "46868363"
      ],
      "text/plain": [
       "[1] 46868363"
      ]
     },
     "metadata": {},
     "output_type": "display_data"
    }
   ],
   "source": [
    "count_valid_seq(n = 4, k = 4, j = 2)"
   ]
  },
  {
   "cell_type": "markdown",
   "metadata": {},
   "source": [
    "# n=4, k=100, and j=1?"
   ]
  },
  {
   "cell_type": "code",
   "execution_count": 3,
   "metadata": {},
   "outputs": [
    {
     "data": {
      "text/html": [
       "99241"
      ],
      "text/latex": [
       "99241"
      ],
      "text/markdown": [
       "99241"
      ],
      "text/plain": [
       "[1] 99241"
      ]
     },
     "metadata": {},
     "output_type": "display_data"
    }
   ],
   "source": [
    "count_valid_seq(n = 4, k = 100, j = 1)"
   ]
  },
  {
   "cell_type": "markdown",
   "metadata": {},
   "source": [
    "# n=100, k=100, and j=1?"
   ]
  },
  {
   "cell_type": "code",
   "execution_count": 4,
   "metadata": {},
   "outputs": [
    {
     "data": {
      "text/html": [
       "99483"
      ],
      "text/latex": [
       "99483"
      ],
      "text/markdown": [
       "99483"
      ],
      "text/plain": [
       "[1] 99483"
      ]
     },
     "metadata": {},
     "output_type": "display_data"
    }
   ],
   "source": [
    "count_valid_seq(n = 100, k = 100, j = 1)"
   ]
  },
  {
   "cell_type": "markdown",
   "metadata": {},
   "source": [
    "# n=347, k=2281, and j=829?"
   ]
  },
  {
   "cell_type": "code",
   "execution_count": 5,
   "metadata": {},
   "outputs": [
    {
     "data": {
      "text/html": [
       "195"
      ],
      "text/latex": [
       "195"
      ],
      "text/markdown": [
       "195"
      ],
      "text/plain": [
       "[1] 195"
      ]
     },
     "metadata": {},
     "output_type": "display_data"
    }
   ],
   "source": [
    "count_valid_seq(n = 347, k = 2281, j = 829)"
   ]
  },
  {
   "cell_type": "markdown",
   "metadata": {},
   "source": [
    "# n=1.26⋅10^6, k=4.17⋅10^6, and j=1?"
   ]
  },
  {
   "cell_type": "code",
   "execution_count": null,
   "metadata": {},
   "outputs": [],
   "source": [
    "count_valid_seq(n = 1.26 * 10 ^ 6, k = 4.17 * 10 ^ 6, j = 1)"
   ]
  },
  {
   "cell_type": "markdown",
   "metadata": {},
   "source": [
    "# n=10^7, k=10^12, and j=829?"
   ]
  },
  {
   "cell_type": "code",
   "execution_count": null,
   "metadata": {},
   "outputs": [],
   "source": [
    "count_valid_seq(n = 10 ^ 7, k = 10 ^ 12, j = 829)"
   ]
  }
 ],
 "metadata": {
  "kernelspec": {
   "display_name": "R",
   "language": "R",
   "name": "ir"
  },
  "language_info": {
   "codemirror_mode": "r",
   "file_extension": ".r",
   "mimetype": "text/x-r-source",
   "name": "R",
   "pygments_lexer": "r",
   "version": "3.5.1"
  }
 },
 "nbformat": 4,
 "nbformat_minor": 2
}
