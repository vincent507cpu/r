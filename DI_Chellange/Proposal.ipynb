{
 "cells": [
  {
   "cell_type": "markdown",
   "metadata": {},
   "source": [
    "# Proposal"
   ]
  },
  {
   "cell_type": "markdown",
   "metadata": {},
   "source": [
    "*Wenjia Zhai*"
   ]
  },
  {
   "cell_type": "markdown",
   "metadata": {},
   "source": [
    "**Chicago officials published [details of shared ride services from Uber and Lyft](https://data.cityofchicago.org/Transportation/Transportation-Network-Providers-Trips/m6dm-c72p). Although the information of trip is only available for November and December 2018, there are already 17 million records. For each ride, the records contain the rough pickup and dropoff location, duration, the approximate fare and tip, and more.**"
   ]
  },
  {
   "cell_type": "markdown",
   "metadata": {},
   "source": [
    "Nowadays, shared ride becomes an important part of transportation. Compared to public transportation and driving a car, it is very flexible, convinient and economic. Analyzing shared ride information will give us valuable insights for potential business opportunities. I am particularly interested in the population movement during different period of time, because this will give us a clue about what people will do at such a time.\n",
    "\n",
    "*Due to the limit of my computer, I have to only analyze a part of original dataset. I randomly select 1/10 observaions, which are still 1.7 million.*"
   ]
  },
  {
   "cell_type": "code",
   "execution_count": null,
   "metadata": {},
   "outputs": [],
   "source": []
  },
  {
   "cell_type": "markdown",
   "metadata": {},
   "source": [
    "## Figure 1\n",
    "### The relationship between time and number of rides\n",
    "![](https://github.com/vincent507cpu/r/blob/master/DI_Chellange/dropoff_each_hour.jpeg)\n",
    "It is not surprising at all that there are most rides during evening (17:00 - 20:00) as people stop working and go home or social. The pattarn of rides match the commom sense: the fewest rides happen in the early morning (0:00 - 7:00), then it goes up at 8:00 as people go to work; from noon, the number of ride rises and remains at a high level from 17:00 to 23:00. Since people's activity at night interests me the most, I will analyze the time frame between 17:00 - 23:00 in the following sections."
   ]
  },
  {
   "cell_type": "markdown",
   "metadata": {},
   "source": [
    "## Figure 2 & 3\n",
    "### The pickup and dropoff locations between 18:00 and 23:00\n",
    "![](https://github.com/vincent507cpu/r/blob/master/DI_Chellange/pickup_location.jpeg)\n",
    "![](https://github.com/vincent507cpu/r/blob/master/DI_Chellange/dropoff_location.jpeg)\n",
    "These graphs are not very informative as the number of pickup and dropoff in the same area are similar. I will need a better way to see the trend of population movement."
   ]
  },
  {
   "cell_type": "markdown",
   "metadata": {},
   "source": [
    "## Figure 4\n",
    "### Population movement through shared rides between 18:00 and 23:00\n",
    "![](https://github.com/vincent507cpu/r/blob/master/DI_Chellange/population_movement.jpeg)\n",
    "Here I improve the way I generate and review the graph. First, I combined the number of pickup and dropoff at the same coordinates and calculate the difference. I assumed positive numbers (dropoff - pickup) mean people move in and negative numbers mean people move out. And numbers between -50 and 50 indicate the population in such an area is steady. Through this graph, I can find several interesting spot. For example, although most people leave downtown at night, there are spots around Millennium Park and Chicago River where people move in at night. What do they do there at night? Where are they from (other Chicago area)? It will be valuable to dig into these topics.\n",
    "## Future  work\n",
    "I cannot go further due to time limit. If I have more time, I would like to analyze the pickup location for the people who go to these destinations and the travel time of these trips to view the traffic conditions at night. If I have the other information of passengers, I also want to analyze their behaviors, such as their activities, anything they buy, the palces they go, etc."
   ]
  }
 ],
 "metadata": {
  "kernelspec": {
   "display_name": "R",
   "language": "R",
   "name": "ir"
  },
  "language_info": {
   "codemirror_mode": "r",
   "file_extension": ".r",
   "mimetype": "text/x-r-source",
   "name": "R",
   "pygments_lexer": "r",
   "version": "3.5.1"
  }
 },
 "nbformat": 4,
 "nbformat_minor": 2
}
